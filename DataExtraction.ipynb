{
 "cells": [
  {
   "cell_type": "code",
   "execution_count": 3,
   "metadata": {},
   "outputs": [],
   "source": [
    "import zipfile"
   ]
  },
  {
   "cell_type": "markdown",
   "metadata": {},
   "source": []
  },
  {
   "cell_type": "code",
   "execution_count": 4,
   "metadata": {},
   "outputs": [
    {
     "name": "stdout",
     "output_type": "stream",
     "text": [
      "daily_dataset.csv not found in the ZIP archive.\n"
     ]
    }
   ],
   "source": [
    "#Decompress Data.zip\n",
    "\n",
    "# Specify the path to the ZIP file you want to extract\n",
    "zip_file_path = 'Data.zip'\n",
    "\n",
    "# Name of the file you want to print from the ZIP archive\n",
    "target_file_name = 'acorn_details.csv'\n",
    "\n",
    "# Create a ZipFile object\n",
    "with zipfile.ZipFile(zip_file_path, 'r') as zip_ref:\n",
    "    # Check if the target file exists in the ZIP archive\n",
    "    if target_file_name in zip_ref.namelist():\n",
    "        # Read and print the contents of the target file\n",
    "        with zip_ref.open(target_file_name) as file_in_zip:\n",
    "            for line in file_in_zip:\n",
    "                print(line.decode('utf-8').strip())\n",
    "    else:\n",
    "        print(f\"{target_file_name} not found in the ZIP archive.\")\n",
    "\n",
    "# You can replace 'utf-8' with the appropriate encoding if needed."
   ]
  }
 ],
 "metadata": {
  "kernelspec": {
   "display_name": "Python 3",
   "language": "python",
   "name": "python3"
  },
  "language_info": {
   "codemirror_mode": {
    "name": "ipython",
    "version": 3
   },
   "file_extension": ".py",
   "mimetype": "text/x-python",
   "name": "python",
   "nbconvert_exporter": "python",
   "pygments_lexer": "ipython3",
   "version": "3.12.0"
  }
 },
 "nbformat": 4,
 "nbformat_minor": 2
}
