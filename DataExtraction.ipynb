{
 "cells": [
  {
   "cell_type": "code",
   "execution_count": 6,
   "metadata": {},
   "outputs": [],
   "source": [
    "import zipfile\n",
    "import os"
   ]
  },
  {
   "cell_type": "markdown",
   "metadata": {},
   "source": [
    "We will begin by extracting the data from the zip file and adding it to a folder named Input"
   ]
  },
  {
   "cell_type": "code",
   "execution_count": 7,
   "metadata": {},
   "outputs": [
    {
     "name": "stdout",
     "output_type": "stream",
     "text": [
      "Files from Input.zip extracted to Input.\n"
     ]
    }
   ],
   "source": [
    "\n",
    "# Specify the path to the ZIP file you want to extract\n",
    "zip_file_path = 'Input.zip'\n",
    "\n",
    "# Specify the name of the folder where you want to place the files\n",
    "output_folder = 'Input'\n",
    "\n",
    "# Create the output folder if it doesn't exist\n",
    "if not os.path.exists(output_folder):\n",
    "    os.makedirs(output_folder)\n",
    "\n",
    "# Create a ZipFile object\n",
    "with zipfile.ZipFile(zip_file_path, 'r') as zip_ref:\n",
    "    # Extract all contents from the ZIP file to the output folder\n",
    "    for item in zip_ref.namelist():\n",
    "        # Skip the \"MACOSX\" folder and its contents\n",
    "        if not item.startswith('__MACOSX'):\n",
    "            zip_ref.extract(item, output_folder)\n",
    "\n",
    "print(f\"Files from {zip_file_path} extracted to {output_folder}.\")"
   ]
  }
 ],
 "metadata": {
  "kernelspec": {
   "display_name": "Python 3",
   "language": "python",
   "name": "python3"
  },
  "language_info": {
   "codemirror_mode": {
    "name": "ipython",
    "version": 3
   },
   "file_extension": ".py",
   "mimetype": "text/x-python",
   "name": "python",
   "nbconvert_exporter": "python",
   "pygments_lexer": "ipython3",
   "version": "3.12.0"
  }
 },
 "nbformat": 4,
 "nbformat_minor": 2
}
